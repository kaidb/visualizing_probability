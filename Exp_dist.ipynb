{
 "cells": [
  {
   "cell_type": "code",
   "execution_count": 8,
   "metadata": {},
   "outputs": [],
   "source": [
    "import numpy as np\n",
    "import matplotlib.mlab as mlab\n",
    "from bqplot import *\n",
    "from IPython.display import display\n",
    "from ipywidgets import interactive, fixed, IntSlider, HTML, HTMLMath, FloatSlider,HBox\n",
    "import operator as op"
   ]
  },
  {
   "cell_type": "code",
   "execution_count": 9,
   "metadata": {},
   "outputs": [
    {
     "data": {
      "application/javascript": [
       "document.body.classList.add('theme-dark')"
      ],
      "text/plain": [
       "<IPython.core.display.Javascript object>"
      ]
     },
     "metadata": {},
     "output_type": "display_data"
    }
   ],
   "source": [
    "%%javascript\n",
    "document.body.classList.add('theme-dark')"
   ]
  },
  {
   "cell_type": "code",
   "execution_count": 11,
   "metadata": {},
   "outputs": [
    {
     "data": {
      "application/vnd.jupyter.widget-view+json": {
       "model_id": "f39fe6a979ab4fb6bcbb9e581a35ffe3",
       "version_major": 2,
       "version_minor": 0
      },
      "text/plain": [
       "HBox(children=(Figure(animation_duration=1000, axes=[Axis(label='x', scale=LinearScale()), Axis(label='y', ori…"
      ]
     },
     "metadata": {},
     "output_type": "display_data"
    },
    {
     "data": {
      "application/vnd.jupyter.widget-view+json": {
       "model_id": "a44d1ff448464ad88745f4f4559e7527",
       "version_major": 2,
       "version_minor": 0
      },
      "text/plain": [
       "FloatSlider(value=0.5, description='$Pr(X \\\\leq k )$', max=10.0, min=0.001)"
      ]
     },
     "metadata": {},
     "output_type": "display_data"
    },
    {
     "data": {
      "application/vnd.jupyter.widget-view+json": {
       "model_id": "ba1ef9bf24554a07bb169db06d6f312f",
       "version_major": 2,
       "version_minor": 0
      },
      "text/plain": [
       "FloatSlider(value=0.5, description='$\\\\lambda$  Value', max=2.0, min=0.001)"
      ]
     },
     "metadata": {},
     "output_type": "display_data"
    }
   ],
   "source": [
    "def exp_PDF(lmbda, x):\n",
    "    return lmbda * np.e ** (- lmbda * x)\n",
    "def exp_CDF(lmbda,x):\n",
    "    return 1 -  np.e ** (- lmbda * x)\n",
    "\n",
    "lambda_slider = FloatSlider(min=1e-3, max=2,value=.5, description=\"$\\lambda$  Value\")\n",
    "cdf_slider =  FloatSlider(min=1e-3, max=10,value=.5, description=\"$Pr(X \\leq k )$\")\n",
    "\n",
    "\n",
    "\n",
    "def lambda_callback(change):\n",
    "    pdf_vals = exp_PDF(lambda_slider.value, x_vals )\n",
    "    cdf_vals = exp_CDF(lambda_slider.value, x_vals)\n",
    "    pdf.y = pdf_vals\n",
    "    cdf.y = cdf_vals \n",
    "    \n",
    "    cutoff = cdf_slider.value\n",
    "    # get points to the left \n",
    "    bool_inclusion = x_vals <= cutoff\n",
    "    # get points to shade \n",
    "    pdf_shade_x = x_vals[bool_inclusion]\n",
    "    pdf_shade_y = pdf_vals[bool_inclusion]\n",
    "    # update shading \n",
    "    pdf_shade.x = pdf_shade_x\n",
    "    pdf_shade.y = pdf_shade_y  \n",
    "    \n",
    "    scatt.x = [cutoff]\n",
    "    scatt.y = [exp_CDF(lambda_slider.value, cutoff)]\n",
    "    \n",
    "    \n",
    "lambda_slider.observe(lambda_callback, 'value')\n",
    "    \n",
    "def cdf_callback(change):\n",
    "    cutoff = cdf_slider.value\n",
    "    # get points to the left \n",
    "    bool_inclusion = x_vals <= cutoff\n",
    "    # get points to shade \n",
    "    pdf_shade_x = x_vals[bool_inclusion]\n",
    "    pdf_vals = exp_PDF(lambda_slider.value, x_vals )\n",
    "    pdf_shade_y = pdf_vals[bool_inclusion]\n",
    "    # update shading \n",
    "    pdf_shade.x = pdf_shade_x\n",
    "    pdf_shade.y = pdf_shade_y  \n",
    "    \n",
    "    scatt.x = [cutoff]\n",
    "    scatt.y = [exp_CDF(lambda_slider.value, cutoff)]\n",
    "    \n",
    "    \n",
    "cdf_slider.observe(cdf_callback, 'value')\n",
    "\n",
    "x_vals = np.linspace(0,10,300)\n",
    "pdf_vals = exp_PDF(lambda_slider.value, x_vals )\n",
    "cdf_vals = exp_CDF(lambda_slider.value, x_vals)\n",
    "\n",
    "\n",
    "\n",
    "cutoff = .5\n",
    "\n",
    "\n",
    "xs = LinearScale()\n",
    "ys = LinearScale()\n",
    "cdf_ys = LinearScale(min=0,max=1)\n",
    "xax = Axis(scale=xs, label='x', grid_lines='solid')\n",
    "yax = Axis(scale=ys, orientation='vertical', tick_format='0.2f', label='y', grid_lines='solid')\n",
    "cdf_yax = Axis(scale=cdf_ys, orientation='vertical', tick_format='0.2f', label='y', grid_lines='solid')\n",
    "\n",
    "\n",
    "pdf = Lines(x=x_vals, y=pdf_vals, scales={'x': xs, 'y': ys}, colors=['magenta'])\n",
    "\n",
    "bool_inclusion = x_vals <= cutoff\n",
    "pdf_shade_x = x_vals[bool_inclusion]\n",
    "pdf_shade_y = pdf_vals[bool_inclusion]\n",
    "pdf_shade =  Lines(x=pdf_shade_x, y=pdf_shade_y, scales={'x': xs, 'y': ys}, colors=['magenta'],fill_colors=['magenta'] ,fill='bottom')\n",
    "\n",
    "\n",
    "cdf = Lines(x=x_vals, y=cdf_vals, scales={'x': xs, 'y': ys}, colors=['yellow'])\n",
    "scatt = Scatter(x=[cutoff], y=[exp_CDF(lambda_slider.value, cutoff)], scales={'x': xs, 'y': ys}, colors=['blue'])\n",
    "fig1 = Figure(marks=[pdf, pdf_shade], axes=[xax, yax], animation_duration=1000)\n",
    "fig2 = Figure(marks=[cdf, scatt], axes=[xax, cdf_yax], animation_duration=1000)\n",
    "display(HBox((fig1, fig2) ))\n",
    "display(cdf_slider, lambda_slider)"
   ]
  },
  {
   "cell_type": "code",
   "execution_count": null,
   "metadata": {},
   "outputs": [],
   "source": []
  },
  {
   "cell_type": "code",
   "execution_count": null,
   "metadata": {},
   "outputs": [],
   "source": []
  }
 ],
 "metadata": {
  "kernelspec": {
   "display_name": "Python 3",
   "language": "python",
   "name": "python3"
  },
  "language_info": {
   "codemirror_mode": {
    "name": "ipython",
    "version": 3
   },
   "file_extension": ".py",
   "mimetype": "text/x-python",
   "name": "python",
   "nbconvert_exporter": "python",
   "pygments_lexer": "ipython3",
   "version": "3.6.3"
  }
 },
 "nbformat": 4,
 "nbformat_minor": 2
}
