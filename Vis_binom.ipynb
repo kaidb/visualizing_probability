{
 "cells": [
  {
   "cell_type": "code",
   "execution_count": 7,
   "metadata": {},
   "outputs": [],
   "source": [
    "import numpy as np\n",
    "import matplotlib.pyplot as plt\n",
    "from bqplot import *\n",
    "from IPython.display import display\n",
    "from ipywidgets import interactive, fixed, IntSlider, HTML, HTMLMath, FloatSlider,HBox\n",
    "from scipy.special import binom\n",
    "\n",
    "%matplotlib inline"
   ]
  },
  {
   "cell_type": "code",
   "execution_count": 8,
   "metadata": {},
   "outputs": [
    {
     "data": {
      "application/javascript": [
       "document.body.classList.add('theme-dark')"
      ],
      "text/plain": [
       "<IPython.core.display.Javascript object>"
      ]
     },
     "metadata": {},
     "output_type": "display_data"
    }
   ],
   "source": [
    "%%javascript\n",
    "document.body.classList.add('theme-dark')"
   ]
  },
  {
   "cell_type": "code",
   "execution_count": 25,
   "metadata": {},
   "outputs": [],
   "source": [
    "def binomial_pmf(n,p,k):\n",
    "    \"\"\"\n",
    "    Computes the binomial pmf \n",
    "    - n iid bernoulli experiments are performed\n",
    "    - each with probability of success p\n",
    "    - k is the number of success \n",
    "    \"\"\"\n",
    "    if k <=n and k>=0:\n",
    "        return binom(n,k) * (p ** k) * ((1-p) ** (n-k) )\n",
    "    return 0\n",
    "\n",
    "\n",
    "def binomial_cdf(n,p,K):\n",
    "    return sum([binomial_pmf(n,p,k) for k in range(K+1)])"
   ]
  },
  {
   "cell_type": "markdown",
   "metadata": {},
   "source": [
    "# Plotting the PMF"
   ]
  },
  {
   "cell_type": "code",
   "execution_count": 24,
   "metadata": {},
   "outputs": [
    {
     "data": {
      "application/vnd.jupyter.widget-view+json": {
       "model_id": "7df5d7b810c04d8088811261f237d1ab",
       "version_major": 2,
       "version_minor": 0
      },
      "text/plain": [
       "Figure(animation_duration=1000, axes=[Axis(scale=OrdinalScale()), Axis(orientation='vertical', scale=LinearSca…"
      ]
     },
     "metadata": {},
     "output_type": "display_data"
    },
    {
     "data": {
      "application/vnd.jupyter.widget-view+json": {
       "model_id": "54915b1fcc8644bc95f4984d11abfcaa",
       "version_major": 2,
       "version_minor": 0
      },
      "text/plain": [
       "IntSlider(value=10, description='$n$  Value', min=1)"
      ]
     },
     "metadata": {},
     "output_type": "display_data"
    },
    {
     "data": {
      "application/vnd.jupyter.widget-view+json": {
       "model_id": "52712f2cc88e42ba8ce6f0fd0adbe502",
       "version_major": 2,
       "version_minor": 0
      },
      "text/plain": [
       "FloatSlider(value=0.5, description='$p$  Value', max=1.0)"
      ]
     },
     "metadata": {},
     "output_type": "display_data"
    }
   ],
   "source": [
    "n = 10\n",
    "p = .5\n",
    "r = np.array([i for i in range(0,n+1)])\n",
    "probs = np.array([binomial_pmf(n,p,k) for k in r])\n",
    "\n",
    "n_slider = IntSlider(max=100, min=1, value=n, description=\"$n$  Value\")\n",
    "p_slider = FloatSlider(max=1.0, min=0.0, value=p,description=\"$p$  Value\")\n",
    "    \n",
    "xs = OrdinalScale()\n",
    "ys = LinearScale()\n",
    "\n",
    "bar = Bars(x=r, y=probs, scales={'x': xs, 'y': ys}, padding=0.2, type='grouped')\n",
    "xax = Axis(scale=xs)\n",
    "yax = Axis(scale=ys, orientation='vertical', tick_format='0.0%', grid_lines='solid')\n",
    "\n",
    "fig = Figure(marks=[bar], axes=[xax, yax], animation_duration=1000)\n",
    "\n",
    "def binom_callback(change):\n",
    "    n = n_slider.value\n",
    "    p = p_slider.value\n",
    "    r = np.array([i for i in range(0,n+1)])\n",
    "    probs = np.array([binomial_pmf(n,p,k) for k in r])\n",
    "    bar.x = r\n",
    "    bar.y = probs\n",
    "    \n",
    "n_slider.observe(binom_callback, 'value')\n",
    "p_slider.observe(binom_callback, 'value')\n",
    "display(fig, n_slider, p_slider)"
   ]
  },
  {
   "cell_type": "code",
   "execution_count": 43,
   "metadata": {},
   "outputs": [
    {
     "data": {
      "application/vnd.jupyter.widget-view+json": {
       "model_id": "d15b2202099b4c68b45f8989437f0131",
       "version_major": 2,
       "version_minor": 0
      },
      "text/plain": [
       "HBox(children=(Figure(animation_duration=1000, axes=[Axis(label='x', scale=LinearScale()), Axis(label='y', ori…"
      ]
     },
     "metadata": {},
     "output_type": "display_data"
    },
    {
     "data": {
      "application/vnd.jupyter.widget-view+json": {
       "model_id": "b0d0d7d998764b048c133e42c5422554",
       "version_major": 2,
       "version_minor": 0
      },
      "text/plain": [
       "IntSlider(value=10, description='$n$  Value', min=1)"
      ]
     },
     "metadata": {},
     "output_type": "display_data"
    },
    {
     "data": {
      "application/vnd.jupyter.widget-view+json": {
       "model_id": "2540dfb6f80a496b846613eba7447c38",
       "version_major": 2,
       "version_minor": 0
      },
      "text/plain": [
       "FloatSlider(value=0.5, description='$p$  Value', max=1.0)"
      ]
     },
     "metadata": {},
     "output_type": "display_data"
    },
    {
     "data": {
      "application/vnd.jupyter.widget-view+json": {
       "model_id": "e8579bab85ca4c2b88674c4227141a04",
       "version_major": 2,
       "version_minor": 0
      },
      "text/plain": [
       "IntSlider(value=5, description='$Pr(X \\\\leq k )$', max=10, min=-1)"
      ]
     },
     "metadata": {},
     "output_type": "display_data"
    }
   ],
   "source": [
    "cutoff = 5\n",
    "\n",
    "# Redefine Sliders\n",
    "# Distribution Parameters, and cutoff\n",
    "n_slider = IntSlider(max=100, min=1, value=n, description=\"$n$  Value\")\n",
    "p_slider = FloatSlider(max=1.0, min=0.0, value=p, description=\"$p$  Value\")\n",
    "cdf_slider =  IntSlider(min=-1, max=n_slider.value, value=cutoff, description=\"$Pr(X \\leq k )$\")\n",
    "\n",
    "\n",
    "\n",
    "# set up axis scaling \n",
    "xs = LinearScale()\n",
    "ys = LinearScale()\n",
    "cdf_ys = LinearScale(min=0,max=1)\n",
    "xax = Axis(scale=xs, label='x', grid_lines='solid')\n",
    "yax = Axis(scale=ys, orientation='vertical', tick_format='0.2f', label='y', grid_lines='solid')\n",
    "cdf_yax = Axis(scale=cdf_ys, orientation='vertical', tick_format='0.2f', label='y', grid_lines='solid')\n",
    "\n",
    "x_vals = np.array([i for i in range(0,n_slider.value +1)])\n",
    "\n",
    "# PDF and CDF \n",
    "pdf_vals = np.array([binomial_pmf(n_slider.value,p_slider.value,k) for k in x_vals])\n",
    "cdf_vals = np.array([binomial_cdf(n_slider.value,p_slider.value,k) for k in x_vals])\n",
    "\n",
    "\n",
    "# PDF shade\n",
    "pdf = Lines(x=x_vals, y=pdf_vals, scales={'x': xs, 'y': ys}, colors=['magenta'])\n",
    "bool_inclusion = x_vals <= cutoff\n",
    "pdf_shade_x = x_vals[bool_inclusion]\n",
    "pdf_shade_y = pdf_vals[bool_inclusion]\n",
    "pdf_shade =  Lines(x=pdf_shade_x, y=pdf_shade_y, scales={'x': xs, 'y': ys}, colors=['magenta'],fill_colors=['magenta'] ,fill='bottom')\n",
    "cdf = Lines(x=x_vals, y=cdf_vals, scales={'x': xs, 'y': ys}, colors=['yellow'])\n",
    "scatt = Scatter(x=[cutoff], y=[ binomial_cdf(n_slider.value,p_slider.value, cdf_slider.value) ], scales={'x': xs, 'y': ys}, colors=['blue'])\n",
    "fig1 = Figure(marks=[pdf, pdf_shade], axes=[xax, yax], animation_duration=1000)\n",
    "fig2 = Figure(marks=[cdf, scatt], axes=[xax, cdf_yax], animation_duration=1000)\n",
    "\n",
    "\n",
    "def dist_callback(change):\n",
    "    cutoff = cdf_slider.value\n",
    "    x_vals = np.array([i for i in range(0,n_slider.value +1)])\n",
    "    cdf_slider.max = n_slider.value\n",
    "    # PDF and CDF \n",
    "    pdf_vals = np.array([binomial_pmf(n_slider.value,p_slider.value,k) for k in x_vals])\n",
    "    cdf_vals = np.array([binomial_cdf(n_slider.value,p_slider.value,k) for k in x_vals])\n",
    "    pdf.x, pdf.y = x_vals, pdf_vals\n",
    "    cdf.x, cdf.y = x_vals, cdf_vals\n",
    "    bool_inclusion = x_vals <= cutoff\n",
    "    pdf_shade_x = x_vals[bool_inclusion]\n",
    "    pdf_shade_y = pdf_vals[bool_inclusion]\n",
    "    pdf_shade.x = pdf_shade_x\n",
    "    pdf_shade.y = pdf_shade_y  \n",
    "    scatt.x = [cutoff]\n",
    "    scatt.y = [ binomial_cdf(n_slider.value,p_slider.value, cdf_slider.value) ]\n",
    "\n",
    "def binom_pdf_cdf_callback(change):\n",
    "    cutoff = cdf_slider.value\n",
    "    x_vals = np.array([i for i in range(0,n_slider.value +1)])\n",
    "    # PDF and CDF \n",
    "    pdf_vals = np.array([binomial_pmf(n_slider.value,p_slider.value,k) for k in x_vals])\n",
    "    cdf_vals = np.array([binomial_cdf(n_slider.value,p_slider.value,k) for k in x_vals])\n",
    "    bool_inclusion = x_vals <= cutoff\n",
    "    pdf_shade_x = x_vals[bool_inclusion]\n",
    "    pdf_shade_y = pdf_vals[bool_inclusion]\n",
    "    pdf_shade.x = pdf_shade_x\n",
    "    pdf_shade.y = pdf_shade_y  \n",
    "    scatt.x = [cutoff]\n",
    "    scatt.y = [ binomial_cdf(n_slider.value,p_slider.value, cdf_slider.value) ]\n",
    "\n",
    "    \n",
    "n_slider.observe(dist_callback, 'value')\n",
    "p_slider.observe(dist_callback, 'value')\n",
    "cdf_slider.observe(binom_pdf_cdf_callback, 'value')\n",
    "display(HBox((fig1, fig2) ))\n",
    "display( n_slider, p_slider, cdf_slider)\n"
   ]
  },
  {
   "cell_type": "code",
   "execution_count": null,
   "metadata": {},
   "outputs": [],
   "source": []
  }
 ],
 "metadata": {
  "kernelspec": {
   "display_name": "Python 3",
   "language": "python",
   "name": "python3"
  },
  "language_info": {
   "codemirror_mode": {
    "name": "ipython",
    "version": 3
   },
   "file_extension": ".py",
   "mimetype": "text/x-python",
   "name": "python",
   "nbconvert_exporter": "python",
   "pygments_lexer": "ipython3",
   "version": "3.6.3"
  }
 },
 "nbformat": 4,
 "nbformat_minor": 2
}
