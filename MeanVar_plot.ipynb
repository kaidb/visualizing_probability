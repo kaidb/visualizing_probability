{
 "cells": [
  {
   "cell_type": "code",
   "execution_count": 1,
   "metadata": {},
   "outputs": [],
   "source": [
    "import numpy as np\n",
    "import matplotlib.mlab as mlab\n",
    "from bqplot import *\n",
    "\n",
    "from ipywidgets import interactive, fixed, IntSlider, HTML, HTMLMath, FloatSlider,HBox"
   ]
  },
  {
   "cell_type": "code",
   "execution_count": 2,
   "metadata": {},
   "outputs": [
    {
     "data": {
      "application/javascript": [
       "document.body.classList.add('theme-dark')"
      ],
      "text/plain": [
       "<IPython.core.display.Javascript object>"
      ]
     },
     "metadata": {},
     "output_type": "display_data"
    }
   ],
   "source": [
    "%%javascript\n",
    "document.body.classList.add('theme-dark')"
   ]
  },
  {
   "cell_type": "code",
   "execution_count": 3,
   "metadata": {},
   "outputs": [
    {
     "data": {
      "application/vnd.jupyter.widget-view+json": {
       "model_id": "5316540353b34ee1a571bf62067b25ac",
       "version_major": 2,
       "version_minor": 0
      },
      "text/plain": [
       "Figure(animation_duration=1000, axes=[Axis(label='x', scale=LinearScale()), Axis(label='y', orientation='verti…"
      ]
     },
     "metadata": {},
     "output_type": "display_data"
    }
   ],
   "source": [
    "mean_slider = IntSlider( max=100, min=-100,value=0, description='Mean:')\n",
    "var_slider = FloatSlider( max=1000, min=1e-6,value=1, description='Var:')\n",
    "\n",
    "def dist_callback(change):\n",
    "    mu = mean_slider.value\n",
    "    variance = var_slider.value\n",
    "    sigma = np.sqrt(variance)\n",
    "    xV = np.linspace(mu - 3*sigma, mu + 3*sigma, 100)\n",
    "    line.x = xV\n",
    "    line.y= mlab.normpdf(xV, mu, sigma)\n",
    "    \n",
    "mean_slider.observe(dist_callback, 'value')\n",
    "var_slider.observe(dist_callback, 'value')\n",
    "mu = 0\n",
    "variance = 1\n",
    "sigma = np.sqrt(variance)\n",
    "xV = np.linspace(mu - 3*sigma, mu + 3*sigma, 100)\n",
    "pdf_vals = mlab.normpdf(xV, mu, sigma)\n",
    "\n",
    "xs = LinearScale()\n",
    "ys = LinearScale()\n",
    "xax = Axis(scale=xs, label='x', grid_lines='solid')\n",
    "yax = Axis(scale=ys, orientation='vertical', tick_format='0.2f', label='y', grid_lines='solid')\n",
    "line = Lines(x=xV, y=pdf_vals, scales={'x': xs, 'y': ys}, colors=['magenta'])\n",
    "Figure(marks=[line], axes=[xax, yax], animation_duration=1000)"
   ]
  },
  {
   "cell_type": "code",
   "execution_count": 4,
   "metadata": {},
   "outputs": [
    {
     "data": {
      "application/vnd.jupyter.widget-view+json": {
       "model_id": "789ba4d2f3f54e40973026e39ab0323d",
       "version_major": 2,
       "version_minor": 0
      },
      "text/plain": [
       "IntSlider(value=0, description='Mean:', min=-100)"
      ]
     },
     "metadata": {},
     "output_type": "display_data"
    },
    {
     "data": {
      "application/vnd.jupyter.widget-view+json": {
       "model_id": "ef96ed4d192d4b27b22e6c423d44621e",
       "version_major": 2,
       "version_minor": 0
      },
      "text/plain": [
       "FloatSlider(value=1.0, description='Var:', max=1000.0, min=1e-06)"
      ]
     },
     "metadata": {},
     "output_type": "display_data"
    }
   ],
   "source": [
    "display(mean_slider, var_slider)"
   ]
  },
  {
   "cell_type": "code",
   "execution_count": null,
   "metadata": {},
   "outputs": [],
   "source": []
  }
 ],
 "metadata": {
  "kernelspec": {
   "display_name": "Python 3",
   "language": "python",
   "name": "python3"
  },
  "language_info": {
   "codemirror_mode": {
    "name": "ipython",
    "version": 3
   },
   "file_extension": ".py",
   "mimetype": "text/x-python",
   "name": "python",
   "nbconvert_exporter": "python",
   "pygments_lexer": "ipython3",
   "version": "3.6.3"
  }
 },
 "nbformat": 4,
 "nbformat_minor": 2
}
