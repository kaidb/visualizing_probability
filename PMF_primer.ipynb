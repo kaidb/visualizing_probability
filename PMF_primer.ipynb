{
 "cells": [
  {
   "cell_type": "code",
   "execution_count": 17,
   "metadata": {},
   "outputs": [],
   "source": [
    "import numpy as np\n",
    "from matplotlib import pyplot as plt\n",
    "\n",
    "try:\n",
    "    from jupyterthemes import jtplot\n",
    "    # currently installed theme will be used to\n",
    "    # set plot style if no arguments provided\n",
    "    jtplot.style()\n",
    "except:\n",
    "    print(\"Jupyter themes have not been installed\")\n",
    "    print(\"This notebook was formated for Jupyter Dark Theme\")\n",
    "    print(\"Optional: Download and setup Jupyter Themes from https://github.com/dunovank/jupyter-themes\")\n",
    "    \n",
    "%matplotlib inline"
   ]
  },
  {
   "cell_type": "markdown",
   "metadata": {},
   "source": [
    "$\\newcommand{\\Pr}{\\text{Pr}}$"
   ]
  },
  {
   "cell_type": "markdown",
   "metadata": {},
   "source": [
    "# Review of  Probability Mass Functions\n",
    "- @Author: Kai Bernardini\n",
    "- Designed as supplementary material for CS237, Boston University\n",
    "\n",
    "## **Formal Definition: **\n",
    "- Let $$X:\\Omega \\rightarrow A\\subset \\mathbb{R}$$ be a discrete random variable. Then the **Probability Mass Function**  or **PMF** is defined as \n",
    "$$f_X(x): A\\to [0,1]$$\n",
    "$$f_X(x) = \\Pr[X=x] = \\Pr(\\{s \\in \\Omega : X(s) = x \\} )$$\n",
    "where $$\\sum_{x\\in A}f_X(x) = 1 $$\n",
    "\n",
    "## **Informal and In plain English:** \n",
    "Personally, I find the rigorous definition to be straight forward, but it always helps supplement the formal definition with an intuitive understanding and to have an example in mind. Think of the probability mass function (PMF) as an oracle of sorts. The Greeks would visit an oracle and ask for the answer to  a particular question.\n",
    "- I.E., they could ask the oracle whether or not it will rain tomorrow. The answer could be \n",
    "- \"Yes\" implying the probability of rain tomorrow is 1 (the event is certain)\n",
    "- \"No\" implying the probability of rain tomorrow is 0 (the event is impossible)\n",
    "- \"Maybe\" implying the probability of rain tomorrow is in $(0,1)$ \n",
    "\n",
    "In the case of a PMF, you *ask* the PMF what the probability of a particular event is, *and it tells you*. Under this analogy, the \"question\" is the input to the PMF and the \"answer\" is the output of the function on the input.  \n",
    "## More formally...\n",
    "Lets make this example more precise. Suppose we  want to know whether or not it will rain tomorrow. In this example, the sample space is composed of 2 outcomes: namely, it will either rain, or it won't rain.   Then $\\Omega := \\{\\text{no rain}, \\text{rain} \\}$. Let $X$ be the random variable  $$X: \\Omega \\to \\{0,1\\} \\subset \\mathbb{R}$$  defined by  $$X(s) = \\begin{cases}1 & \\text{ if } s = \\text{rain}\\\\ 0 & \\text{ otherwise} \\end{cases}$$ \n",
    "Again, keep in mind that all this notation does in this case is associate \"rain\" to 1 and \"no rain\" to 0.  Then if we, for example, were interested in the probability that it will rain tomorrow, we would ask the oracle \"What is the probability of it raining tomorrow?\" which is mathematically equivalent to writing \n",
    "$$\\Pr[\\text{rain}]= \\Pr[X=1]$$\n",
    "and similarly, the probability of \"no rain\" tomorrow is exactly $$\\Pr[\\text{no rain}]= \\Pr[X=0]$$\n",
    "The function that explicitly encodes this information is the PMF defined as $$f_X:\\{0,1\\} \\to [0,1] $$\n",
    "\n",
    "Then using the example of the oracle, the question to the oracle \"will it rain tomorrow?\"  would be translated into the input \"1\" and the answer to the question would be $f_X(1)$. More specifically, $$ \\text{\"The probability of it raining tomorrow\"} = f_X(1) = \\Pr[X=1] = \\Pr[\\text{rain}]$$\n",
    "- ** From this example, it is clear why we need the sum over all inputs to the PMF to sum to 1, as this if it didn't this would contradict the law of total probability. **"
   ]
  },
  {
   "cell_type": "markdown",
   "metadata": {},
   "source": [
    "# Programmatic Representations of a PMF\n",
    "- Lets make a simplifying assumption (that we will relax later) that the range of our random variable is ** finite ** and ** can fit into memory **. \n",
    "- Lets think about a ** data structure ** that can help us represent the probability mass function. TO make this precise, lets consider the example of rolling a fair 6 sided die. \n",
    "    - That is, when we roll the die, each one of the numbers $ \\Omega = \\{1,2,3,4,5,6\\}$ is equally likely to show up. \n",
    "    - Since $\\Pr[s \\in \\Omega] = c$ and $\\sum_{s \\in \\Omega} \\Pr[s] = 1 \\implies c = \\frac{1}{6}$\n",
    "        - All that this notation means is if every event is equally likely (ie they all have the same probability, call it $c$), there are 6 events,  and the sum over all events needs to be 1, this just mens $\\sum_{i=1}^6 c = c+c+...+c = 6c = 1 \\implies c = \\frac{1}{6}$ \n",
    "- Since each event is equally likely, the PMF is exactly $$f_X(x) = \\begin{cases}\\frac{1}{6} \\text{ if } x\\in \\{1,2,3,4,5,6\\} \\\\ 0 \\text{ otherwise} \\end{cases}$$\n",
    "- Think about what this is doing though: it is just asosciating one of the events to a probability. I.E.\n",
    "$$\\begin{align*} 1 &\\leftrightarrow \\frac{1}{6} \\\\ 2 &\\leftrightarrow \\frac{1}{6} \\\\ \\vdots & ~~~~~~~ \\vdots \\\\ 6 &\\leftrightarrow \\frac{1}{6}   \\end{align*}$$\n",
    "A natural choice for a datastructure is a hash table, which has constant time lookup between key value pairs. In python, we would use a dictionary \n",
    "- In particular, the key value pairs would be $\\Big(x, f_X(x) \\Big)$ and if a value is not in the dictionary, we would simply return 0 (as this means the input is NOT in the range of the random variable of interest). \n",
    "\n",
    "## Remark on Datastructure:\n",
    "Note that we don't **have to ** use a hash table, but it is the most convenient way to store unordered collections of key/value pairs, where the lookup between input and output is constant. **[add more on this...] **"
   ]
  },
  {
   "cell_type": "code",
   "execution_count": 64,
   "metadata": {},
   "outputs": [],
   "source": [
    "def die_roll_pmf(x):\n",
    "    \"\"\"\n",
    "    Probability Mass function for a Fair, 6-sided die\n",
    "    Computationally, it represents inputs to the PMF as keys, and \n",
    "    the probability of the input as the value \n",
    "    {\n",
    "     1: 0.16666666666666666,\n",
    "     2: 0.16666666666666666,\n",
    "     3: 0.16666666666666666,\n",
    "     4: 0.16666666666666666,\n",
    "     5: 0.16666666666666666,\n",
    "     6: 0.16666666666666666\n",
    "     }\n",
    "     \n",
    "    \"\"\"\n",
    "    # list comprehensions also work for dictionaries \n",
    "    pmf_dict = {i:1/6 for i in range(1,7)}\n",
    "    if x in pmf_dict:\n",
    "        return pmf_dict[x]\n",
    "    # note this only gets executed if the above boolean statement is false\n",
    "    # i.e., the input is NOT in the range\n",
    "    # Technically speaking, since the PMF is only defined on the range of the RV, we don't need this step\n",
    "    return 0"
   ]
  },
  {
   "cell_type": "code",
   "execution_count": 69,
   "metadata": {},
   "outputs": [
    {
     "name": "stdout",
     "output_type": "stream",
     "text": [
      "0.16666666666666666 0\n"
     ]
    }
   ],
   "source": [
    "# We can also do the same thing but use exceptions \n",
    "def die_roll_pmf_alt(x):\n",
    "    \"\"\"\n",
    "    Probability Mass function for a Fair, 6-sided die\n",
    "    Computationally, it represents inputs to the PMF as keys, and \n",
    "    the probability of the input as the value \n",
    "    \"\"\"\n",
    "    # list comprehensions also work for dictionaries \n",
    "    pmf_dict = {i:1/6 for i in range(1,7)}\n",
    "    try:\n",
    "        return pmf_dict[x]\n",
    "    except KeyError:\n",
    "        return 0\n",
    "\n",
    "# should print 1/6, 0\n",
    "print(die_roll_pmf_alt(1),die_roll_pmf_alt(0) )"
   ]
  },
  {
   "cell_type": "markdown",
   "metadata": {},
   "source": [
    "# Plotting the PMF\n",
    "- Lets plot the ** graph ** of the PMF for the fair die example.  \n",
    "- We will draw the graph using a * line chart*\n",
    "    - (we will use a bar chart with a small width)\n",
    "- The $x$-axis will be the input to the PMF and the $y$-axis will be the probability of that input. \n",
    "- Note that it is not continuous, and is only non-zero in 6 places.\n",
    "    - Hence, we need only plot 6 values "
   ]
  },
  {
   "cell_type": "code",
   "execution_count": 63,
   "metadata": {},
   "outputs": [
    {
     "data": {
      "text/plain": [
       "Text(0.5,1,'PMF for a fair 6-sided Die')"
      ]
     },
     "execution_count": 63,
     "metadata": {},
     "output_type": "execute_result"
    },
    {
     "data": {
      "image/png": "[encoded data removed]",
      "text/plain": [
       "<matplotlib.figure.Figure at 0x10f4b7c88>"
      ]
     },
     "metadata": {},
     "output_type": "display_data"
    }
   ],
   "source": [
    "# This generates the x values for the bar\n",
    "# Note the range is only [1,2,3,4,5,6]\n",
    "die_range = [i for i in range(1,7)]\n",
    "\n",
    "# This generates the associated probabilities \n",
    "# Note all it does is apply the die pmf to each element\n",
    "probs = [die_roll_pmf(x) for x in die_range]\n",
    "\n",
    "## Plotting the Graph ##\n",
    "# Set the figure size to be 10 x 8 inches \n",
    "plt.figure(figsize=(10,8))\n",
    "# Generate the bar chart where the x values are the range of the R.V.\n",
    "# The height is going to be the associated probability \n",
    "# Width is set small (in this case .1)\n",
    "plt.bar(x=die_range, height= probs, width = .1)\n",
    "\n",
    "# This just sets lables for the x/y axis and title\n",
    "plt.xlabel(\"$x$\", fontsize=14)\n",
    "plt.ylabel(\"$f_X(x)=Pr[X=x]$\", fontsize=15)\n",
    "plt.title(\"PMF for a fair 6-sided Die\", fontsize=20)"
   ]
  },
  {
   "cell_type": "markdown",
   "metadata": {},
   "source": [
    "# General python PMF \n",
    "- If the range of the random variable is finite, and fits into memory, we can represent the entirety of the function has a python dictionary. \n",
    "- We can either pass in the PMF as an argument, or construct a function from within the function. Both Examples are shown below "
   ]
  },
  {
   "cell_type": "code",
   "execution_count": 42,
   "metadata": {},
   "outputs": [
    {
     "data": {
      "text/plain": [
       "0.16666666666666666"
      ]
     },
     "execution_count": 42,
     "metadata": {},
     "output_type": "execute_result"
    }
   ],
   "source": [
    "def dict_pmf(x, pmf_dict):\n",
    "    \"\"\"\n",
    "    General formulation of the dictionary PMF\n",
    "    @Arguments:\n",
    "    x -- real number, the input to the PMF\n",
    "    pmf_dict -- dictionary of key values pairs where the key is the input x and \n",
    "    the value is $f_X(x)$ (PMF of x)\n",
    "    Returns: PMF(x)\n",
    "    \"\"\"\n",
    "    if x in pmf_dict:\n",
    "        return pmf_dict[x]\n",
    "    return 0\n",
    "\n",
    "die_pmf_dict = {i:1/6 for i in range(1,7)}\n",
    "dict_pmf(3, die_pmf_dict)\n"
   ]
  },
  {
   "cell_type": "code",
   "execution_count": 78,
   "metadata": {},
   "outputs": [
    {
     "data": {
      "text/plain": [
       "(0.16666666666666666, 0)"
      ]
     },
     "execution_count": 78,
     "metadata": {},
     "output_type": "execute_result"
    }
   ],
   "source": [
    "def gen_pmf(pmf_dict):\n",
    "    \"\"\"\n",
    "    General formulation of the dictionary PMF\n",
    "    @Arguments:\n",
    "    x -- real number, the input to the PMF\n",
    "    pmf_dict -- dictionary of key values pairs where the key is the input x and \n",
    "    the value is $f_X(x)$ (PMF of x)\n",
    "    - generates a function \n",
    "    Returns: PMF function\n",
    "    \"\"\"\n",
    "    def tmp_pmf(x):\n",
    "        if x in pmf_dict:\n",
    "            return pmf_dict[x]\n",
    "        return 0\n",
    "    return tmp_pmf\n",
    "\n",
    "# generates the function and gives it a name\n",
    "gen_die_pmf = gen_pmf(die_pmf_dict)\n",
    "# Calls the function \n",
    "gen_die_pmf(2), gen_die_pmf(0)"
   ]
  },
  {
   "cell_type": "markdown",
   "metadata": {},
   "source": [
    "# Another Example\n",
    "Suppose we have for a random variable $X$ and associated PMF $$f_X(x) = \\begin{cases}\\frac{1}{3} & \\text{ if } x = 1\\\\ \\frac{1}{6} & \\text{ if } x = 3 \\\\\n",
    " \\frac{1}{2} & \\text{ if } x = 5 \\\\ 0 & \\text{ otherwise}\\end{cases}$$\n",
    " We could then represent this PMF using the `dict_pmf` function above with  an input `pmf_dict=example_pmf_dict = {1:1/3, 3:1/6, 5:.5}` \n",
    " \n",
    " Note, this is a perfectly fine PMF as $$\\sum_{x\\in R(X)} f_X(x) = \\frac{1}{3} + \\frac{1}{6} + \\frac{1}{2}= 1$$"
   ]
  },
  {
   "cell_type": "code",
   "execution_count": 59,
   "metadata": {},
   "outputs": [
    {
     "data": {
      "text/plain": [
       "Text(0.5,1,'PMF For Another Example')"
      ]
     },
     "execution_count": 59,
     "metadata": {},
     "output_type": "execute_result"
    },
    {
     "data": {
      "image/png": "[encoded data removed]",
      "text/plain": [
       "<matplotlib.figure.Figure at 0x10ec00908>"
      ]
     },
     "metadata": {},
     "output_type": "display_data"
    }
   ],
   "source": [
    "example_range = [1,3,5]\n",
    "example_pmf_dict = {1:1/3, 3:1/6, 5:.5}\n",
    "\n",
    "example_probs = [dict_pmf(x,example_pmf_dict) for x in example_range]\n",
    "plt.figure(figsize=(10,8))\n",
    "plt.bar(x=example_range, height= example_probs, width = .1)\n",
    "plt.xlabel(\"$x$\", fontsize=14)\n",
    "plt.ylabel(\"$f_X(x)=Pr[X=x]$\", fontsize=15)\n",
    "plt.title(\"PMF For Another Example\", fontsize=20)"
   ]
  },
  {
   "cell_type": "markdown",
   "metadata": {},
   "source": [
    "# Sanity Check [Optional]\n",
    "Try it out for yourself! Here is an example of a (relatively easy problem) you could encounter:\n",
    "- Suppose you roll 2 fair, 3 sided die. Let $X$ be the random variable that takes on the *sum* of  two observed die. For example, if when we rolled the die, we observed a 3 and a 2 (denotes as (3,2) where 3 is the outcome of the first die and 2 is the outcome of the second die) then $X$ would be $3+2=5$. \n",
    "- Write down the sample space of outcomes. \n",
    "    - Feel free to leave it in terms of product sets. \n",
    "- Write down the range of $X$\n",
    "- Write down the associated PMF of $X$ \n",
    "- Programmatically implement the PMF of $X$. "
   ]
  },
  {
   "cell_type": "code",
   "execution_count": 79,
   "metadata": {},
   "outputs": [],
   "source": [
    "# Your Solution here"
   ]
  },
  {
   "cell_type": "markdown",
   "metadata": {},
   "source": [
    "# Instructor solution\n",
    "The beauty of this class, is it is NOT a purely mathematical course! You can use tools in python to greatly simplify your work! In particular, lets use python to write down the sample space of the problem! \n",
    "- Let $D= \\{1,2,3\\}$. Then $\\Omega = D\\times D = D^2$ where $\\times $ is the [Cartesian] Product of sets\n",
    "- This is just all pairs $(i,j)$ with $i,j\\in D$.\n",
    "- If we wanted to actually generate the set, we could do it as follows:"
   ]
  },
  {
   "cell_type": "code",
   "execution_count": 82,
   "metadata": {},
   "outputs": [
    {
     "data": {
      "text/plain": [
       "[(1, 1), (1, 2), (1, 3), (2, 1), (2, 2), (2, 3), (3, 1), (3, 2), (3, 3)]"
      ]
     },
     "execution_count": 82,
     "metadata": {},
     "output_type": "execute_result"
    }
   ],
   "source": [
    "# this is the set of interest\n",
    "D = [1,2,3]\n",
    "\n",
    "# This computes the set product of 2 sets\n",
    "def set_product(S,T):\n",
    "    prod_set = [(i,j) for i in S for j in T]\n",
    "    return prod_set\n",
    "# this is D^2\n",
    "D2 = set_product(D,D)\n",
    "D2"
   ]
  },
  {
   "cell_type": "markdown",
   "metadata": {},
   "source": [
    "# Instructor solution continued\n",
    "- Now lets find what the Range of $X$ is.  This is easy to compute analytically since all we need to do is look at the min of $D$ and the max of $D$. In particular, it is bounded below by $1+1=2$ and above by $3+3=6$. Since the values are contiguous over $\\mathbb{Z}$, the range of $X$ is $\\{2,3,4,5,6\\}$. \n",
    "- Lets say we didn't know how to do this analytically though ( as if I gave you a harder problem, it wouldn't be so simple!)\n",
    "    - Lets see how we can use python to greatly simplify the problem!\n",
    "    \n",
    "First, we need to transform the outcomes of $\\Omega$ into outcomes of $X$. Note that in this case, \n",
    "$$X:\\Omega \\to \\mathbb{R}$$ but $\\Omega = D\\times D$ meaning $$X:D \\times D \\to \\mathbb{R}$$ defined by $$(i,j)\\mapsto i + j$$ for $i,j \\in D$\n",
    "We can easily implement this in python as follows"
   ]
  },
  {
   "cell_type": "code",
   "execution_count": 88,
   "metadata": {},
   "outputs": [
    {
     "data": {
      "text/plain": [
       "([2, 3, 4, 3, 4, 5, 4, 5, 6], 9)"
      ]
     },
     "execution_count": 88,
     "metadata": {},
     "output_type": "execute_result"
    }
   ],
   "source": [
    "# First, we need to look at $X$ which is the sum of the two die\n",
    "X_outcomes = [sum(i) for i in D2]\n",
    "X_outcomes, len(X_outcomes)"
   ]
  },
  {
   "cell_type": "markdown",
   "metadata": {},
   "source": [
    "# Instructor solution continued\n",
    "- Now that we have the outcomes, we can easily get both the range, and the PMF! To do this, we will use the built in function `Counter` from the collections package. The counter function takes in as an input an array of values, and constructs a dictionary like object of key value pairs where the key corresponds to an object from the array, and the value is the number of times that element shows up in that array. \n",
    "- Lets see how we could get both the range and PMF below!"
   ]
  },
  {
   "cell_type": "code",
   "execution_count": 85,
   "metadata": {},
   "outputs": [
    {
     "data": {
      "text/plain": [
       "1"
      ]
     },
     "execution_count": 85,
     "metadata": {},
     "output_type": "execute_result"
    }
   ],
   "source": [
    "# THis imports only the Counter function from the colelctions package\n",
    "from collections import Counter\n",
    "\n",
    "# Build the counter object\n",
    "dist = Counter(X_outcomes)\n",
    "# Remember, the key is the object in the array, and the value is the number\n",
    "# of times that number occurs\n",
    "# For example, dist[2] = 1 as \n",
    "# 2 only shows up once in the array\n",
    "dist[2]"
   ]
  },
  {
   "cell_type": "code",
   "execution_count": 87,
   "metadata": {},
   "outputs": [
    {
     "data": {
      "text/plain": [
       "[2, 3, 4, 5, 6]"
      ]
     },
     "execution_count": 87,
     "metadata": {},
     "output_type": "execute_result"
    }
   ],
   "source": [
    "# generate the range of the random variable\n",
    "# .keys() gets all the keys from the Counter object\n",
    "# We the sort the keys \n",
    "X_range = sorted(dist.keys())\n",
    "X_range"
   ]
  },
  {
   "cell_type": "markdown",
   "metadata": {},
   "source": [
    " Recall, for $|\\Omega| = n, A\\subset \\Omega,  |A| = m$, $$\\Pr[A] = \\frac{|A|}{|\\Omega|} = \\frac{m}{n}$$ \n",
    " - This means to find the PMF for $X$, we  only need to normalize the counts. IE, if 2 occurs only once out of $|\\Omega|=9$  outcomes, then $\\Pr[X=2] = \\frac{1}{9}$\n",
    " - Hence, we can just normalize each element in the Count object by dividing its input by 9. "
   ]
  },
  {
   "cell_type": "code",
   "execution_count": 89,
   "metadata": {},
   "outputs": [
    {
     "data": {
      "text/plain": [
       "{2: 0.1111111111111111,\n",
       " 3: 0.2222222222222222,\n",
       " 4: 0.3333333333333333,\n",
       " 5: 0.2222222222222222,\n",
       " 6: 0.1111111111111111}"
      ]
     },
     "execution_count": 89,
     "metadata": {},
     "output_type": "execute_result"
    }
   ],
   "source": [
    "# Normalize the frequencies into proportions\n",
    "sum_pmf = {i:dist[i]/9 for i in X_range }\n",
    "sum_pmf"
   ]
  },
  {
   "cell_type": "markdown",
   "metadata": {},
   "source": [
    "# Quick Remark: \n",
    "- Numerically, you may encounter a problem where summing over all values doesn't yield 1. \n",
    "- It typically suffices to check up to 8 decimal places. See below where we revisit the fair die example:"
   ]
  },
  {
   "cell_type": "code",
   "execution_count": 90,
   "metadata": {},
   "outputs": [
    {
     "name": "stdout",
     "output_type": "stream",
     "text": [
      "The sum over all values should be 1, but it is: 0.9999999999999999\n"
     ]
    }
   ],
   "source": [
    "# Lets check that this is indeed a valid PMF: \n",
    "# Note there will likely be some numerical error, \n",
    "print(\"The sum over all values should be 1, but it is: {}\".format(sum(probs)))"
   ]
  },
  {
   "cell_type": "code",
   "execution_count": 91,
   "metadata": {},
   "outputs": [
    {
     "name": "stdout",
     "output_type": "stream",
     "text": [
      "Does this sum equal 1? False\n",
      "Is the sum accurate up to 8 decimal places? True\n"
     ]
    }
   ],
   "source": [
    "# Does python know this is 1?\n",
    "# NO!\n",
    "print(\"Does this sum equal 1? {}\".format(sum(probs) ==1))\n",
    "\n",
    "# But it is close enough!\n",
    "print(\"Is the sum accurate up to 8 decimal places? {}\".format(abs(sum(probs) - 1) < 1e-8))"
   ]
  },
  {
   "cell_type": "markdown",
   "metadata": {},
   "source": [
    "# What about if $X$ has a countably infinite range?\n",
    "- In this section, we consider what happens if  the range of $X$ written $R(X)$ is countably infinite. \n",
    "- Suppose we have the following PMF for a random variable $X$\n",
    "$$f_X(x) = \\begin{cases} \\Big(\\frac{1}{2}\\Big)^x & \\text{ if } x\\in \\mathbb{N} \\\\ 0 & \\text{ otherwise} \\end{cases}$$\n",
    "- Notice that each input is indexed by a natural number, and its probability is a function of that input\n",
    "<table border=\"PMF(x)\" class=\"dataframe\">\n",
    "  <thead>\n",
    "  </thead>\n",
    "  <tbody>\n",
    "    <tr>\n",
    "      <th>$x$</th>\n",
    "      <td>1</td>\n",
    "      <td>2</td>\n",
    "      <td>3</td>\n",
    "      <td>4</td>\n",
    "      <td>5</td>\n",
    "      <td>6</td>\n",
    "      <td>...</td>\n",
    "    </tr>\n",
    "    <tr>\n",
    "      <th> '$f_X(x)$' </th>\n",
    "      <td>$\\frac{1}{2^1}$</td>\n",
    "      <td>$\\frac{1}{2^2}$</td>\n",
    "      <td>$\\frac{1}{2^3}$</td>\n",
    "      <td>$\\frac{1}{2^4}$</td>\n",
    "      <td>$\\frac{1}{2^5}$</td>\n",
    "      <td>$\\frac{1}{2^6}$</td>\n",
    "\n",
    "        <td>...</td>\n",
    "    </tr>\n",
    "  </tbody>\n",
    "</table>\n",
    "-  First, we verify that this is indeed a valid PMF by showing $$\\sum_{x\\in R(x)} f_X(x) = \\sum_{x=1}^{\\infty} \\frac{1}{2^x} = \\frac{1}{2} + \\frac{1}{4}+ \\frac{1}{8}+...=1$$\n",
    "There are a few ways to show that this converges, but the geometric series test tells us it does-- and it even tells us what it converges to. If you forgot what the formula is, it is easy to work out since we know it converges. Lets call this value $c$. In particular, $$ \\sum_{x=1}^{\\infty} \\frac{1}{2^x}  = \\frac{1}{2} + \\frac{1}{4}+ \\frac{1}{8}+...= c$$\n",
    "If we multiply both sides by 2, then $$ 2 \\sum_{x=1}^{\\infty} \\frac{1}{2^x}  = \\frac{2}{2} + \\frac{2}{4}+ \\frac{2}{8}+... = 1 +  \\frac{1}{2} + \\frac{1}{4}+ \\frac{1}{8}+...=  1 + c= 2c$$\n",
    "$$\\implies c =1$$\n",
    "\n",
    "- Note, this type of trick only works because we already know the series is convergent.\n",
    "    - For example, if I took an obviously divergent series and pretended that it converged to a real number, say $c$,  $\\sum_{i=1}^{\\infty} i  = 1+2+3+4+5+...= c$ then you could show that subtracting 1 yields $$0 +1+2+3+4+... = c = c-1 \\implies 0=1$$  which is obviously a problem \n",
    "\n",
    "- Now how can we represent the PMF programmatically? \n",
    "    - Since the function is indexed by natural numbers, we simply need to check if its a natural number\n",
    "        - if it is, we just use the formula\n",
    "        "
   ]
  },
  {
   "cell_type": "code",
   "execution_count": 50,
   "metadata": {},
   "outputs": [],
   "source": [
    "def countable_pmf_example(x):\n",
    "    \"\"\"PMF for the countable example\"\"\"\n",
    "    # first, we check if x is a natural number\n",
    "    if x %1 == 0  and x >0:\n",
    "        return .5 ** x\n",
    "    # x isn't a natural number\n",
    "    return 0"
   ]
  },
  {
   "cell_type": "markdown",
   "metadata": {},
   "source": [
    "# Graphing the Countable Example\n",
    "Note the Range of $X$ is countably infinite, and we therefore cannot display the entire graph. However, the PMF quickly decays to zero, so we need only show the first 10 or so.  You can verify this below!"
   ]
  },
  {
   "cell_type": "code",
   "execution_count": 56,
   "metadata": {},
   "outputs": [],
   "source": [
    "def graph_countable_pmf(number_of_values_to_graph):\n",
    "    # inputs to the pmf\n",
    "    x_vals = [i for i in range(1, number_of_values_to_graph + 1)]\n",
    "    # Probability values\n",
    "    probs = [countable_pmf_example(x) for x in x_vals]\n",
    "    \n",
    "    # Plotting\n",
    "    plt.figure(figsize=(10,8))\n",
    "    plt.bar(x=x_vals, height= probs, width = .1)\n",
    "    plt.xlabel(\"$x$\", fontsize=14)\n",
    "    plt.ylabel(\"$f_X(x)=Pr[X=x]$\", fontsize=15)\n",
    "    plt.title(\"PMF for Countable Example\", fontsize=20)"
   ]
  },
  {
   "cell_type": "code",
   "execution_count": 60,
   "metadata": {},
   "outputs": [
    {
     "data": {
      "image/png": "[encoded data removed]",
      "text/plain": [
       "<matplotlib.figure.Figure at 0x10ef4ea58>"
      ]
     },
     "metadata": {},
     "output_type": "display_data"
    }
   ],
   "source": [
    "# 10 is a reasonable choice\n",
    "# In general, graphing the meaningful portion of a PMF is a bit of an art\n",
    "graph_countable_pmf(10)"
   ]
  },
  {
   "cell_type": "code",
   "execution_count": 92,
   "metadata": {
    "scrolled": true
   },
   "outputs": [
    {
     "data": {
      "image/png": "[encoded data removed]",
      "text/plain": [
       "<matplotlib.figure.Figure at 0x10f498be0>"
      ]
     },
     "metadata": {},
     "output_type": "display_data"
    }
   ],
   "source": [
    "# What about 100? The graph is no longer very useful! \n",
    "graph_countable_pmf(100)"
   ]
  }
 ],
 "metadata": {
  "kernelspec": {
   "display_name": "Python 3",
   "language": "python",
   "name": "python3"
  },
  "language_info": {
   "codemirror_mode": {
    "name": "ipython",
    "version": 3
   },
   "file_extension": ".py",
   "mimetype": "text/x-python",
   "name": "python",
   "nbconvert_exporter": "python",
   "pygments_lexer": "ipython3",
   "version": "3.6.3"
  }
 },
 "nbformat": 4,
 "nbformat_minor": 2
}
