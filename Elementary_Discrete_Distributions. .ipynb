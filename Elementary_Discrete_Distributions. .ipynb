{
 "cells": [
  {
   "cell_type": "markdown",
   "metadata": {},
   "source": [
    "$ \\LaTeX$ macros:\n",
    "$\\newcommand{\\Pr}{\\text{Pr}}$"
   ]
  },
  {
   "cell_type": "markdown",
   "metadata": {},
   "source": [
    "# Review of Elementary Discrete Random Variables\n",
    "- @Author: Kai Bernardini \n",
    "- Designed as supplementary material for CS237, Boston University\n",
    "- The purpose of this notebook is to introduce several of elementary discrete distributions. The reason we give such objects names, is because they arise naturally in a wide range of problems. When faced with such a problem, if we can argue that some random process fits one of these  formats, then we can simply quote properties we have derived already.  \n",
    "    - In particular, we need only determine what the values are that parameterize the distribution. \n",
    "- Random variables of this sort are called \"parametric\" random variables.\n",
    "- A useful way to think about this is to compare a Parametric distribution to a constructor in an abstract class. We provide an example below."
   ]
  },
  {
   "cell_type": "markdown",
   "metadata": {},
   "source": [
    "# Bernoulli\n",
    "We begin the discussion of distributions with one of the most elementary and important: the Bernoulli distribution.  Many problems in probability theory involve independently repeating random experiments and observing whether or not a specific event occurs. That is, Bernoulli random variables arise naturally in probability theory as indicators of events.  As a motivating example, suppose out of all possible outcomes $\\Omega$, we define $A\\subset \\Omega$ to be a success and $\\Omega \\setminus A$ to be a failure . Such an experiment is modeled by a random variable $X$ with Bernoulli distribution written $X\\sim Bernouli(p)$ with outcomes\n",
    " $$X= \\begin{cases} 1 & \\text{if } A\\text{ occurs,}  \\\\\n",
    "0 & A \\text{ does not occur.}\n",
    "\\end{cases}$$\n",
    "\\begin{align*}\n",
    " \\Pr[X=1]&=p\\\\\n",
    "  \\Pr[X=0]&=1-p\\\\\n",
    "  \\Pr[X=k]&=0 \\qquad \\forall k\\notin\\{0,1\\}\n",
    "\\end{align*}\n",
    "\n",
    "Repeated trials of a random experiment are called Bernoulli trials if the following conditions are met.\n",
    "- The trials are independent of each other.\n",
    "- The result of each trial is either a success or a failure\n",
    "- The probability of success remains unchanged from trial to trial\n",
    "\n",
    " Recall that independence of random variables $X,Y$ is defined as $$\\Pr[X|Y]=\\Pr[X]$$\n",
    "  and similarly, $$\\Pr[Y|X]=\\Pr[Y]$$\n",
    "  \n",
    "  \n",
    "  Intuitively, this means that observing the outcome of one event in no way influences the outcome of future outcomes. For example, if I flip a fair coin 100 times and get all heads, I am still equally as likely to get heads or tails on the 101st flip. Each coin flip can be thought of as an independent Bernoulli trial with probability of success $p=1/2$.\n",
    "More generally, the most elementary example of a Bernoulli random variable, is flipping a $p$-biased coin, and having the random variable take on $1$ (success) if the coin comes up heads and $0$ (failure) otherwise. \n",
    "\n",
    "Notice that once we provide what the probability of success is, we know the pmf. I.E., the parameter for this distribution is $p$. \n",
    "Going back to the class constructor analogy, we can see that a Bernoulli Random Variable can indeed be represented as python class"
   ]
  },
  {
   "cell_type": "code",
   "execution_count": 14,
   "metadata": {},
   "outputs": [],
   "source": [
    "import numpy as np\n",
    "from numpy.random import uniform\n",
    "\n",
    "class Bernoulli:\n",
    "    def __init__(self, p):\n",
    "        assert p >=0 and p<=1\n",
    "        self.p = p\n",
    "        self.pmf_dict = {1: p , 0: 1-p}\n",
    "        self.rnge = [0,1]\n",
    "        \n",
    "    def pmf(self, x):\n",
    "        if x in self.pmf_dict:\n",
    "            return self.pmf_dict[x]\n",
    "        return 0\n",
    "\n",
    "    def sample(self, n):\n",
    "        # generate n samples according to a Bernoulli Distribution\n",
    "        gen_sample = uniform(0,1, n)\n",
    "        outcomes = gen_sample <= p\n",
    "        return outcomes.astype(int)\n",
    "    \n",
    "    def expectation(self):\n",
    "        return  sum([x * self.pmf(x) for x in self.rnge ])\n",
    "    \n",
    "    \n",
    "    def var(self):\n",
    "        ex = self.expectation() \n",
    "        ex2 =  sum([ (x**2) * self.pmf(x) for x in self.rnge ])\n",
    "        return ex2 - (ex)**2\n",
    "        \n",
    "                   \n",
    "                    \n",
    "        "
   ]
  },
  {
   "cell_type": "code",
   "execution_count": 24,
   "metadata": {},
   "outputs": [
    {
     "data": {
      "text/plain": [
       "array([1, 0, 1, 0, 0, 0, 0, 0, 0, 0])"
      ]
     },
     "execution_count": 24,
     "metadata": {},
     "output_type": "execute_result"
    }
   ],
   "source": [
    "p = 1/3\n",
    "X = Bernoulli(p)\n",
    "X.var()\n",
    "X.expectation()\n",
    "X.pmf(0), X.pmf(1)\n",
    "X.sample(10)"
   ]
  },
  {
   "cell_type": "code",
   "execution_count": 19,
   "metadata": {},
   "outputs": [
    {
     "data": {
      "text/plain": [
       "0.2222222222222222"
      ]
     },
     "execution_count": 19,
     "metadata": {},
     "output_type": "execute_result"
    }
   ],
   "source": [
    "X.var()"
   ]
  },
  {
   "cell_type": "code",
   "execution_count": 20,
   "metadata": {},
   "outputs": [
    {
     "data": {
      "text/plain": [
       "0.3333333333333333"
      ]
     },
     "execution_count": 20,
     "metadata": {},
     "output_type": "execute_result"
    }
   ],
   "source": [
    "X.expectation()"
   ]
  },
  {
   "cell_type": "code",
   "execution_count": 22,
   "metadata": {},
   "outputs": [
    {
     "data": {
      "text/plain": [
       "(0.6666666666666667, 0.3333333333333333)"
      ]
     },
     "execution_count": 22,
     "metadata": {},
     "output_type": "execute_result"
    }
   ],
   "source": [
    "X.pmf(0), X.pmf(1)"
   ]
  },
  {
   "cell_type": "code",
   "execution_count": 23,
   "metadata": {},
   "outputs": [
    {
     "data": {
      "text/plain": [
       "array([0, 0, 1, 1, 0, 1, 1, 1, 1, 0])"
      ]
     },
     "execution_count": 23,
     "metadata": {},
     "output_type": "execute_result"
    }
   ],
   "source": [
    "X.sample(10)"
   ]
  },
  {
   "cell_type": "code",
   "execution_count": 25,
   "metadata": {},
   "outputs": [],
   "source": [
    "def Bernoulli_RV(p):\n",
    "    def PMF(x):\n",
    "        pmf = {0: 1-p, 1:p}\n",
    "        if x in pmf:\n",
    "            return pmf[x]\n",
    "        return 0\n",
    "    return PMF"
   ]
  },
  {
   "cell_type": "code",
   "execution_count": 27,
   "metadata": {},
   "outputs": [
    {
     "data": {
      "text/plain": [
       "0.5"
      ]
     },
     "execution_count": 27,
     "metadata": {},
     "output_type": "execute_result"
    }
   ],
   "source": [
    "Bernoulli_RV(1/2)(1)"
   ]
  },
  {
   "cell_type": "markdown",
   "metadata": {},
   "source": [
    "# Binomial Distribution\n",
    "Now suppose we conduct a finite sequence of independent  Bernoulli trials. Often, we are interested in counting the number of successes.  As a motivating example, suppose you flip 3 fair coins, and are interested in the probability that exactly one coin comes up heads. We first write down the space of possible outcomes where $T$ denotes tails and $H$ denotes heads.  $$\\Omega=\n",
    "\\{ (HHH), (HHT), (HTH), (THH), (TTH),(THT), (HTT), (TTT)\\}$$\n",
    "We next identify the set $A$ of all trials with exactly one heads\n",
    "$$A\\subset \\Omega=\\{(TTH),(THT)(HTT)\\}$$\n",
    "In the case where the coin is fair, the probability that exactly one of the trials is heads is $$\\frac{|A|}{|\\Omega|}= \\frac{3}{8}$$\n",
    "A random variable $X$ that counts the number of successes in a sequence of independent Bernoulli trials with shared probability of success $p\\in (0,1)$ is called a Binomial random variable written $X\\sim B(n,p)$ where $n$ is the number of trials and $p$ is the probability of success.\n",
    "\n",
    "In the case of the above example, the number of trials is 3, as we flip 3 coins and the probability of success is $p=\\frac{1}{2}$ since the  coin is fair.\n",
    "\n",
    "Generalizing this for $X\\sim B(n,p)$, we are interested in $\\Pr[X=k]$ which is the probability that in a string of $n$ Bernoulli trials, we get exactly $k$ successes. If we observed $k$ success, then that means there were $n-k$ failures as there were $n$ trials total. Now we note that there are exactly $\\binom{n}{k}$ ways of having $k$ success and $n-k$ failures. Finally, since each trial is independent, we have\n",
    "\\begin{equation}\n",
    "\\Pr[B(n,p)=k]=\\binom{n}{k}p^{k}(1-p)^{n-k} \\qquad \\forall k\\in\\{0,1,...,n\\}\\nonumber\n",
    "\\end{equation}\n",
    "In English, suppose we flip a $p$ biased coin $n$ times. Then probability that exactly $k$ of these coins land heads up is exactly the PMF($k$) of $X\\sim B(n,p)$."
   ]
  },
  {
   "cell_type": "code",
   "execution_count": null,
   "metadata": {},
   "outputs": [],
   "source": []
  }
 ],
 "metadata": {
  "kernelspec": {
   "display_name": "Python 3",
   "language": "python",
   "name": "python3"
  },
  "language_info": {
   "codemirror_mode": {
    "name": "ipython",
    "version": 3
   },
   "file_extension": ".py",
   "mimetype": "text/x-python",
   "name": "python",
   "nbconvert_exporter": "python",
   "pygments_lexer": "ipython3",
   "version": "3.6.3"
  }
 },
 "nbformat": 4,
 "nbformat_minor": 2
}
